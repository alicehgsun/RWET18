{
 "cells": [
  {
   "cell_type": "markdown",
   "metadata": {},
   "source": [
    "# Makeup Guru\n",
    "A makeup tutorial generator using xkcd color vectors. Original text is from [one of the tutorials](https://blog.deckofscarlet.com/fresh-spring-makeup-tutorial-orangepink-blue-denitslava-makeup/) in Deck of Scarlet."
   ]
  },
  {
   "cell_type": "code",
   "execution_count": 1,
   "metadata": {
    "collapsed": true
   },
   "outputs": [],
   "source": [
    "import json\n",
    "import pycorpora\n",
    "pokemon_data = pycorpora.games.pokemon[\"pokemon\"]\n",
    "pokemons = []\n",
    "for i in range(len(pokemon_data)):\n",
    "    pokemons.append(pokemon_data[i][\"name\"])\n",
    "color = []\n",
    "color_data = pycorpora.colors.xkcd\n",
    "\n",
    "def hex_to_int(s):\n",
    "    s = s.lstrip(\"#\")\n",
    "    return int(s[:2], 16), int(s[2:4], 16), int(s[4:6], 16)\n",
    "colors = dict()\n",
    "for item in color_data['colors']:\n",
    "    colors[item[\"color\"]] = hex_to_int(item[\"hex\"])"
   ]
  },
  {
   "cell_type": "code",
   "execution_count": 10,
   "metadata": {
    "collapsed": true
   },
   "outputs": [],
   "source": [
    "import math\n",
    "def distance(coord1, coord2):\n",
    "    return math.sqrt(sum([(i - j)**2 for i, j in zip(coord1, coord2)]))"
   ]
  },
  {
   "cell_type": "code",
   "execution_count": 13,
   "metadata": {
    "scrolled": true
   },
   "outputs": [
    {
     "data": {
      "text/plain": [
       "['light orange',\n",
       " 'butterscotch',\n",
       " 'pastel orange',\n",
       " 'apricot',\n",
       " 'faded orange',\n",
       " 'orangeish']"
      ]
     },
     "execution_count": 13,
     "metadata": {},
     "output_type": "execute_result"
    }
   ],
   "source": [
    "def closest(space, coord, n=6):\n",
    "    closest = []\n",
    "    for key in sorted(space.keys(),\n",
    "                      key=lambda x: distance(coord, space[x]))[1:n+1]:\n",
    "        closest.append(key)\n",
    "    return closest\n",
    "import random\n",
    "key_color = random.choice(list(colors.keys()))\n",
    "coolers = closest(colors, colors[key_color])\n",
    "coolers"
   ]
  },
  {
   "cell_type": "code",
   "execution_count": 14,
   "metadata": {
    "scrolled": true
   },
   "outputs": [
    {
     "name": "stdout",
     "output_type": "stream",
     "text": [
      "FRESH MAKEUP TUTORIAL: WITH BRAND NEW LIGHT ORANGE EYESHADOW!\n",
      "\n",
      "...\n",
      "So, I’m going to start off the eyeshadow called, Light orange. \n",
      "It’s this butterscotch shade right here. \n",
      "And using a flat brush, I will apply it all over my eyelid area. \n",
      "Next, I’m switching to a bigger blending brush. \n",
      "This is the Electrode 754 brush, and I’ll use it to blend out the edges of that pastel orange shade into the crease and, you know, make it look really nice and seamless. \n",
      "And see how that eyeshadow kind of blended into more of like a apricot shade? \n",
      "When it’s fading, it looks more faded orange rather than orangeish. It’s really nice. \n",
      "It looks like I used many different colors when I just used one single eyeshadow.\n",
      "...\n"
     ]
    }
   ],
   "source": [
    "print(\"FRESH MAKEUP TUTORIAL: WITH BRAND NEW\", coolers[0].upper(), \"EYESHADOW!\\n\")\n",
    "print(\n",
    "    \"...\\n\"\"So, I’m going to start off the eyeshadow called,\",\n",
    "    coolers[0].capitalize() + \".\",\n",
    "    \"\\nIt’s this\", coolers[1], \"shade right here.\", \n",
    "    \"\\nAnd using a\", random.choice([\"round\", \"flat\"]), \"brush\" + \",\", \"I will apply it all over my eyelid area.\",\n",
    "    \"\\nNext, I’m switching to a\", random.choice([\"bigger\", \"smaller\"]), \"blending brush.\", \n",
    "    \"\\nThis is the\", random.choice(pokemons), str(random.randint(0,999)),\"brush,\", \"and I’ll use it to blend out the edges of that\", coolers[2], \"shade into the crease and, you know, make it look really nice and seamless.\",\n",
    "    \"\\nAnd see how that eyeshadow kind of blended into more of like a\", coolers[3], \"shade?\", \n",
    "    \"\\nWhen it’s fading, it looks more\",\n",
    "    coolers[4], \"rather than\", coolers[5] + \".\", \"It’s really nice.\",\n",
    "    \"\\nIt looks like I used many different colors when I just used one single eyeshadow.\"\"\\n...\")\n"
   ]
  }
 ],
 "metadata": {
  "kernelspec": {
   "display_name": "Python 3",
   "language": "python",
   "name": "python3"
  },
  "language_info": {
   "codemirror_mode": {
    "name": "ipython",
    "version": 3
   },
   "file_extension": ".py",
   "mimetype": "text/x-python",
   "name": "python",
   "nbconvert_exporter": "python",
   "pygments_lexer": "ipython3",
   "version": "3.6.3"
  }
 },
 "nbformat": 4,
 "nbformat_minor": 2
}
