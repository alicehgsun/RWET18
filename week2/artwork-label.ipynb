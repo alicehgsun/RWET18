{
 "cells": [
  {
   "cell_type": "markdown",
   "metadata": {},
   "source": [
    "# Artwork Label Generator\n",
    "\n",
    "The generator creates fake titles and descriptions for non-existing work of art. Its built based on one of the [Implementations of early and well-known poetry generators](https://github.com/aparrish/rwet/blob/master/some-poetry-generators.ipynb) by Allison Parrish."
   ]
  },
  {
   "cell_type": "code",
   "execution_count": 420,
   "metadata": {
    "collapsed": true
   },
   "outputs": [],
   "source": [
    "title_adjs = [\n",
    "    \"Cruel\",\n",
    "    \"Diagonal\",\n",
    "    \"Drowning\",\n",
    "    \"Red\",\n",
    "    \"Blue\",\n",
    "    \"Dark\",\n",
    "    \"Violet\",\n",
    "    \"Crying\",\n",
    "    \"Dotted\",\n",
    "    \"Mellow\"\n",
    "]"
   ]
  },
  {
   "cell_type": "code",
   "execution_count": 421,
   "metadata": {
    "collapsed": true
   },
   "outputs": [],
   "source": [
    "title_nouns = [\n",
    "    \"Girl\",\n",
    "    \"Night\",\n",
    "    \"Watch\",\n",
    "    \"Snake\",\n",
    "    \"Door\",\n",
    "    \"Shadow\",\n",
    "    \"River\",\n",
    "    \"Despair\",\n",
    "    \"Child\",\n",
    "    \"Head\",\n",
    "    \"Cloud\",\n",
    "    \"American\",\n",
    "    \"Greed\",\n",
    "    \"Old man\",\n",
    "    \"Machine\",\n",
    "    \"Field\",\n",
    "    \"Hill\",\n",
    "    \"December\",\n",
    "    \"Summer\",\n",
    "    \"Railroad\",\n",
    "    \"River\",\n",
    "    \"Day\"\n",
    "]"
   ]
  },
  {
   "cell_type": "code",
   "execution_count": 422,
   "metadata": {
    "collapsed": true
   },
   "outputs": [],
   "source": [
    "first_medium = [\n",
    "    \"Oil\",\n",
    "    \"Charcoal\",\n",
    "    \"Acrylic\",\n",
    "    \"Conté\",\n",
    "    \"Monoprint\",\n",
    "    \"Collage\",\n",
    "    \"Engraving\",\n",
    "    \"Metal\",\n",
    "    \"Alginate\",\n",
    "    \"Watercolor\",\n",
    "    \"Ink\",\n",
    "    \"Clay\",\n",
    "    \"Soil\",\n",
    "    \"Chalk\",\n",
    "    \"Cloisonné\",\n",
    "    \"Pencil\"\n",
    "]"
   ]
  },
  {
   "cell_type": "code",
   "execution_count": 423,
   "metadata": {
    "collapsed": true
   },
   "outputs": [],
   "source": [
    "second_medium = [\n",
    "    \"paper\",\n",
    "    \"canvas\",\n",
    "    \"wood\",\n",
    "    \"ceramic\"\n",
    "]"
   ]
  },
  {
   "cell_type": "code",
   "execution_count": 424,
   "metadata": {
    "collapsed": true
   },
   "outputs": [],
   "source": [
    "adjs = [\n",
    "    'large',\n",
    "    'spectacular',\n",
    "    'stylish',\n",
    "    'plain',\n",
    "    'colorful',\n",
    "    'classic',\n",
    "    'beautiful',\n",
    "    'magnificent',\n",
    "    'complex',\n",
    "    'iconic',\n",
    "    'brilliant',\n",
    "    'abstract',\n",
    "    'avant-garde',\n",
    "    'figurative',\n",
    "    'lifelike',\n",
    "    'naturalistic',\n",
    "    'painterly',\n",
    "    'pure',\n",
    "    'romantic',\n",
    "    'satirical',\n",
    "    'surreal',\n",
    "    'unique'\n",
    "]"
   ]
  },
  {
   "cell_type": "code",
   "execution_count": 425,
   "metadata": {
    "collapsed": true
   },
   "outputs": [],
   "source": [
    "nouns = [\n",
    "    'work',\n",
    "    'creation',\n",
    "    'still life',\n",
    "    'image',\n",
    "    'display',\n",
    "    'array',\n",
    "    'pattern',\n",
    "    'metaphor',\n",
    "    'appearance',\n",
    "    'drawing',\n",
    "    'figure',\n",
    "    'form',\n",
    "    'illustration',\n",
    "    'model',\n",
    "    'photograph',\n",
    "    'picture',\n",
    "    'still life',\n",
    "    'piece',\n",
    "    \"composition\",\n",
    "    \"scene\"\n",
    "]"
   ]
  },
  {
   "cell_type": "code",
   "execution_count": 426,
   "metadata": {
    "collapsed": true
   },
   "outputs": [],
   "source": [
    "nouns2 = [\n",
    "    'women',\n",
    "    'devil',\n",
    "    'daily life',\n",
    "    'flowers',\n",
    "    'the 20th century',\n",
    "    'death',\n",
    "    'love',\n",
    "    'cats',\n",
    "    'life',\n",
    "    'different dimention',\n",
    "    'dreams',\n",
    "    'orange',\n",
    "    'reminiscence',\n",
    "    'water'\n",
    "]"
   ]
  },
  {
   "cell_type": "code",
   "execution_count": 427,
   "metadata": {
    "collapsed": true
   },
   "outputs": [],
   "source": [
    "advs = [\n",
    "    'beautifully',\n",
    "    'curiously',\n",
    "    'eagerly',\n",
    "    'fervently',\n",
    "    'keenly',\n",
    "    'passionately',\n",
    "    'tenderly',\n",
    "    'impressivley',\n",
    "    'inensely',\n",
    "    'emotionally',\n",
    "    'likely'\n",
    "]"
   ]
  },
  {
   "cell_type": "code",
   "execution_count": 428,
   "metadata": {
    "collapsed": true
   },
   "outputs": [],
   "source": [
    "verbs = [\n",
    "    'contrasted',\n",
    "    'gathered',\n",
    "    'weaved together',\n",
    "    'quilted',\n",
    "    'collected',\n",
    "    'united',\n",
    "    'associated',\n",
    "    'designed',\n",
    "    'related',\n",
    "    'created',\n",
    "    'constructed',\n",
    "    'composed',\n",
    "    'intertwined',\n",
    "    'incorporated',\n",
    "    'introduced',\n",
    "    'blended',\n",
    "    'decorated',\n",
    "    'stylized'\n",
    "]"
   ]
  },
  {
   "cell_type": "code",
   "execution_count": 429,
   "metadata": {
    "collapsed": true
   },
   "outputs": [],
   "source": [
    "verbs2 = [\n",
    "    'expresses',\n",
    "    'presents',\n",
    "    'speaks',\n",
    "    'depicts',\n",
    "    'characterizes',\n",
    "    'illustrates',\n",
    "    'interprets',\n",
    "    'portrays',\n",
    "    'represents',\n",
    "    'narrates',\n",
    "    'outlines'\n",
    "]"
   ]
  },
  {
   "cell_type": "code",
   "execution_count": 430,
   "metadata": {},
   "outputs": [
    {
     "name": "stdout",
     "output_type": "stream",
     "text": [
      "Blue Despair\n",
      "Collage on canvas, 1993\n",
      "\n",
      "The colorful picture interprets the naturalistic\n",
      "drawing weaved together with its picture of death.\n",
      "The beautiful still life. The spectacular metaphor\n",
      "keenly outlines the brilliant still life\n",
      "introduced with its figure of orange.\n"
     ]
    }
   ],
   "source": [
    "import textwrap\n",
    "import random\n",
    "year = random.randint(1993,2018)\n",
    "\n",
    "output = random.choice(title_adjs) + \" \" + random.choice(title_nouns) + \"\\n\"\n",
    "output += random.choice(first_medium) + \" \" + \"on\" + \" \" + random.choice(second_medium) + \", \" + str(year) + \"\\n\"\n",
    "output += \"\\n\"\n",
    "\n",
    "\n",
    "history = []\n",
    "body = \"\"\n",
    "for i in range(3):\n",
    "    kind = random.choice([\"short\", \"long\"])\n",
    "    if kind == \"long\":\n",
    "        # adjectives and adverbs will be present only 50% of the time\n",
    "        line = \" \".join([\n",
    "            \"The\",\n",
    "            random.choice([random.choice(adjs), \"\"]),\n",
    "            random.choice(nouns),\n",
    "            random.choice([random.choice(advs), \"\"]),\n",
    "            random.choice(verbs2), \n",
    "            \" the\",\n",
    "            random.choice([random.choice(adjs), \"\"]),\n",
    "            random.choice(nouns),\n",
    "            random.choice(verbs),\n",
    "            \"with its\",\n",
    "            random.choice(nouns),\n",
    "            \"of\",\n",
    "            random.choice(nouns2)])\n",
    "        body += line\n",
    "    else:\n",
    "        adj_noun = random.choice(adjs) + \" \" + random.choice(nouns)\n",
    "        if len(history) > 0 and history[-1] == \"short\":\n",
    "            body += \"; \" + adj_noun\n",
    "        else:\n",
    "            body += \"The piece stands out as the \" + adj_noun\n",
    "    body += \". \"\n",
    "    history.append(kind)\n",
    "# clean up output\n",
    "body = body.replace(\"  \", \" \")\n",
    "body = body.replace(\". ;\", \";\")\n",
    "# put everything together\n",
    "output += textwrap.fill(body, 50)\n",
    "\n",
    "print(output)"
   ]
  },
  {
   "cell_type": "code",
   "execution_count": null,
   "metadata": {
    "collapsed": true
   },
   "outputs": [],
   "source": []
  }
 ],
 "metadata": {
  "kernelspec": {
   "display_name": "Python 3",
   "language": "python",
   "name": "python3"
  },
  "language_info": {
   "codemirror_mode": {
    "name": "ipython",
    "version": 3
   },
   "file_extension": ".py",
   "mimetype": "text/x-python",
   "name": "python",
   "nbconvert_exporter": "python",
   "pygments_lexer": "ipython3",
   "version": "3.6.3"
  }
 },
 "nbformat": 4,
 "nbformat_minor": 2
}
