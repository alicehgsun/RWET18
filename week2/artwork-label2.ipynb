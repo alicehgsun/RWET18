{
 "cells": [
  {
   "cell_type": "markdown",
   "metadata": {},
   "source": [
    "# Artwork Label Generator\n",
    "\n",
    "The generator creates fake titles and descriptions for non-existing work of art. Its built based on one of the [Implementations of early and well-known poetry generators](https://github.com/aparrish/rwet/blob/master/some-poetry-generators.ipynb) by Allison Parrish."
   ]
  },
  {
   "cell_type": "code",
   "execution_count": 22,
   "metadata": {
    "collapsed": true
   },
   "outputs": [],
   "source": [
    "title_adjs = [\n",
    "    \"Cruel\",\n",
    "    \"Diagonal\",\n",
    "    \"Drowning\",\n",
    "    \"Red\",\n",
    "    \"Blue\",\n",
    "    \"Dark\",\n",
    "    \"Violet\",\n",
    "    \"Crying\",\n",
    "    \"Dotted\",\n",
    "    \"Mellow\"\n",
    "]"
   ]
  },
  {
   "cell_type": "code",
   "execution_count": 40,
   "metadata": {
    "collapsed": true
   },
   "outputs": [],
   "source": [
    "keys = [\n",
    "    \"Girl\",\n",
    "    \"Night\",\n",
    "    \"Watch\",\n",
    "    \"Snake\",\n",
    "    \"Door\",\n",
    "    \"Shadow\",\n",
    "    \"River\",\n",
    "    \"Despair\",\n",
    "    \"Child\",\n",
    "    \"Head\",\n",
    "    \"Cloud\",\n",
    "    \"American\",\n",
    "    \"Greed\",\n",
    "    \"Old man\",\n",
    "    \"Machine\",\n",
    "    \"Field\",\n",
    "    \"Hill\",\n",
    "    \"December\",\n",
    "    \"Summer\",\n",
    "    \"Railroad\",\n",
    "    \"River\",\n",
    "    \"Day\"\n",
    "]"
   ]
  },
  {
   "cell_type": "code",
   "execution_count": 24,
   "metadata": {
    "collapsed": true
   },
   "outputs": [],
   "source": [
    "first_medium = [\n",
    "    \"Oil\",\n",
    "    \"Charcoal\",\n",
    "    \"Acrylic\",\n",
    "    \"Conté\",\n",
    "    \"Monoprint\",\n",
    "    \"Collage\",\n",
    "    \"Engraving\",\n",
    "    \"Metal\",\n",
    "    \"Alginate\",\n",
    "    \"Watercolor\",\n",
    "    \"Ink\",\n",
    "    \"Clay\",\n",
    "    \"Soil\",\n",
    "    \"Chalk\",\n",
    "    \"Cloisonné\",\n",
    "    \"Pencil\"\n",
    "]"
   ]
  },
  {
   "cell_type": "code",
   "execution_count": 25,
   "metadata": {
    "collapsed": true
   },
   "outputs": [],
   "source": [
    "second_medium = [\n",
    "    \"paper\",\n",
    "    \"canvas\",\n",
    "    \"wood\",\n",
    "    \"ceramic\"\n",
    "]"
   ]
  },
  {
   "cell_type": "code",
   "execution_count": 29,
   "metadata": {
    "collapsed": true
   },
   "outputs": [],
   "source": [
    "advs = [\n",
    "    'beautifully',\n",
    "    'curiously',\n",
    "    'eagerly',\n",
    "    'fervently',\n",
    "    'keenly',\n",
    "    'passionately',\n",
    "    'tenderly',\n",
    "    'impressivley',\n",
    "    'inensely',\n",
    "    'emotionally',\n",
    "    'likely'\n",
    "]"
   ]
  },
  {
   "cell_type": "code",
   "execution_count": 30,
   "metadata": {
    "collapsed": true
   },
   "outputs": [],
   "source": [
    "verbs = [\n",
    "    'contrasted',\n",
    "    'gathered',\n",
    "    'weaved together',\n",
    "    'quilted',\n",
    "    'collected',\n",
    "    'united',\n",
    "    'associated',\n",
    "    'designed',\n",
    "    'related',\n",
    "    'created',\n",
    "    'constructed',\n",
    "    'composed',\n",
    "    'intertwined',\n",
    "    'incorporated',\n",
    "    'introduced',\n",
    "    'blended',\n",
    "    'decorated',\n",
    "    'stylized'\n",
    "]"
   ]
  },
  {
   "cell_type": "code",
   "execution_count": 31,
   "metadata": {
    "collapsed": true
   },
   "outputs": [],
   "source": [
    "verbs2 = [\n",
    "    'expresses',\n",
    "    'presents',\n",
    "    'speaks',\n",
    "    'depicts',\n",
    "    'characterizes',\n",
    "    'illustrates',\n",
    "    'interprets',\n",
    "    'portrays',\n",
    "    'represents',\n",
    "    'narrates',\n",
    "    'outlines'\n",
    "]"
   ]
  },
  {
   "cell_type": "code",
   "execution_count": 16,
   "metadata": {
    "collapsed": true
   },
   "outputs": [],
   "source": [
    "import json\n",
    "color_data = json.loads(open(\"xkcd.json\").read())\n",
    "\n",
    "def hex_to_int(s):\n",
    "    s = s.lstrip(\"#\")\n",
    "    return int(s[:2], 16), int(s[2:4], 16), int(s[4:6], 16)\n",
    "colors = dict()\n",
    "for item in color_data['colors']:\n",
    "    colors[item[\"color\"]] = hex_to_int(item[\"hex\"])"
   ]
  },
  {
   "cell_type": "code",
   "execution_count": 17,
   "metadata": {},
   "outputs": [
    {
     "data": {
      "text/plain": [
       "(255, 129, 192)"
      ]
     },
     "execution_count": 17,
     "metadata": {},
     "output_type": "execute_result"
    }
   ],
   "source": [
    "# testing\n",
    "colors['pink']"
   ]
  },
  {
   "cell_type": "code",
   "execution_count": 19,
   "metadata": {
    "collapsed": true
   },
   "outputs": [],
   "source": [
    "import math\n",
    "def distance(coord1, coord2):\n",
    "    return math.sqrt(sum([(i - j)**2 for i, j in zip(coord1, coord2)]))\n",
    "def subtractv(coord1, coord2):\n",
    "    return [c1 - c2 for c1, c2 in zip(coord1, coord2)]\n",
    "def addv(coord1, coord2):\n",
    "    return [c1 + c2 for c1, c2 in zip(coord1, coord2)]\n",
    "def meanv(coords):\n",
    "    # assumes every item in coords has same length as item 0\n",
    "    sumv = [0] * len(coords[0])\n",
    "    for item in coords:\n",
    "        for i in range(len(item)):\n",
    "            sumv[i] += item[i]\n",
    "    mean = [0] * len(sumv)\n",
    "    for i in range(len(sumv)):\n",
    "        mean[i] = float(sumv[i]) / len(coords)\n",
    "    return mean"
   ]
  },
  {
   "cell_type": "code",
   "execution_count": 29,
   "metadata": {},
   "outputs": [
    {
     "name": "stdout",
     "output_type": "stream",
     "text": [
      "273.70787347096905\n",
      "116.88028062936878\n"
     ]
    }
   ],
   "source": [
    "# testing\n",
    "print(str(distance(colors['red'], colors['green'])) \n",
    "      + '\\n' \n",
    "      + str(distance(colors['red'], colors['orange'])))"
   ]
  },
  {
   "cell_type": "code",
   "execution_count": 42,
   "metadata": {
    "collapsed": true
   },
   "outputs": [],
   "source": [
    "def closest(space, coord, n=5):\n",
    "    closest = []\n",
    "    for key in sorted(space.keys(),\n",
    "                      key=lambda x: distance(coord, space[x]))[:n]:\n",
    "        closest.append(key)\n",
    "    return closest"
   ]
  },
  {
   "cell_type": "code",
   "execution_count": 106,
   "metadata": {},
   "outputs": [
    {
     "data": {
      "text/plain": [
       "['baby purple', 'pastel purple', 'lavender', 'lilac', 'liliac']"
      ]
     },
     "execution_count": 106,
     "metadata": {},
     "output_type": "execute_result"
    }
   ],
   "source": [
    "# testing\n",
    "import random\n",
    "key_color = random.choice(list(colors.keys()))\n",
    "new = closest(colors, colors[key_color])\n",
    "new"
   ]
  },
  {
   "cell_type": "code",
   "execution_count": 107,
   "metadata": {},
   "outputs": [
    {
     "name": "stdout",
     "output_type": "stream",
     "text": [
      "he is baby purple. his pastel purple shirts and lavender smell, and lilac\n"
     ]
    }
   ],
   "source": [
    "# testing2\n",
    "print('he is', \n",
    "      key_color + '.', \n",
    "      'his', new[1], 'shirts and', new[2], 'smell,',\n",
    "     'and', new[3])"
   ]
  },
  {
   "cell_type": "code",
   "execution_count": 8,
   "metadata": {
    "collapsed": true
   },
   "outputs": [],
   "source": [
    "import annoy\n",
    "import spacy\n",
    "import random\n",
    "from itertools import islice\n",
    "nlp = spacy.load('en_core_web_md')\n",
    "qualified = [item for item in nlp.vocab if item.has_vector and item.is_alpha]"
   ]
  },
  {
   "cell_type": "code",
   "execution_count": 95,
   "metadata": {},
   "outputs": [
    {
     "data": {
      "text/plain": [
       "True"
      ]
     },
     "execution_count": 95,
     "metadata": {},
     "output_type": "execute_result"
    }
   ],
   "source": [
    "lexmap = []\n",
    "t = annoy.AnnoyIndex(300)\n",
    "for i, item in enumerate(islice(sorted(qualified, key=lambda x: x.prob, reverse=True), 100000)):\n",
    "    t.add_item(i, item.vector)\n",
    "    lexmap.append(item)\n",
    "t.build(100)"
   ]
  },
  {
   "cell_type": "code",
   "execution_count": 96,
   "metadata": {},
   "outputs": [],
   "source": [
    "def similarsemantic(t, nlp, word, n):\n",
    "    seen = set()\n",
    "    count = 0\n",
    "    for i in t.get_nns_by_vector(nlp.vocab[word].vector, 100):\n",
    "        this_word = lexmap[i].orth_.lower()\n",
    "        if this_word not in seen and word != this_word:\n",
    "            seen.add(this_word)\n",
    "            count += 1\n",
    "            yield this_word\n",
    "            if count >= n:\n",
    "                break"
   ]
  },
  {
   "cell_type": "code",
   "execution_count": 143,
   "metadata": {},
   "outputs": [
    {
     "name": "stdout",
     "output_type": "stream",
     "text": [
      "Violet Hill\n",
      "Pencil on paper, 2014\n",
      "\n",
      "The piece stands out as the classic north. The\n",
      "hills likely interprets the romantic northwest\n",
      "designed with its southwest of crags.\n"
     ]
    }
   ],
   "source": [
    "import textwrap\n",
    "import random\n",
    "year = random.randint(1993,2018)\n",
    "\n",
    "key = random.choice(keys)\n",
    "nouns = list(similarsemantic(t, nlp, key, 60))\n",
    "nouns_len = len(nouns)\n",
    "key2 = nouns[nouns_len-1]\n",
    "nouns2 = list(similarsemantic(t, nlp, key2, 60))\n",
    "# nouns2 = list(similarsemantic(t, nlp, 'art', 100))\n",
    "\n",
    "\n",
    "output = random.choice(title_adjs) + \" \" + key + \"\\n\"\n",
    "output += random.choice(first_medium) + \" \" + \"on\" + \" \" + random.choice(second_medium) + \", \" + str(year) + \"\\n\"\n",
    "output += \"\\n\"\n",
    "\n",
    "\n",
    "history = []\n",
    "body = \"\"\n",
    "for i in range(2):\n",
    "    kind = random.choice([\"short\", \"long\"])\n",
    "    if kind == \"long\":\n",
    "        # adjectives and adverbs will be present only 50% of the time\n",
    "        line = \" \".join([\n",
    "            \"The\",\n",
    "            random.choice([random.choice(adjs), \"\"]),\n",
    "            random.choice(nouns),\n",
    "            random.choice([random.choice(advs), \"\"]),\n",
    "            random.choice(verbs2), \n",
    "            \" the\",\n",
    "            random.choice([random.choice(adjs), \"\"]),\n",
    "            random.choice(nouns),\n",
    "            random.choice(verbs),\n",
    "            \"with its\",\n",
    "            random.choice(nouns),\n",
    "            \"of\",\n",
    "            random.choice(nouns2)])\n",
    "        body += line\n",
    "    else:\n",
    "        adj_noun = random.choice(adjs) + \" \" + random.choice(nouns)\n",
    "        if len(history) > 0 and history[-1] == \"short\":\n",
    "            body += \"; \" + adj_noun\n",
    "        else:\n",
    "            body += \"The piece stands out as the \" + adj_noun\n",
    "    body += \". \"\n",
    "    history.append(kind)\n",
    "# clean up output\n",
    "body = body.replace(\"  \", \" \")\n",
    "body = body.replace(\". ;\", \";\")\n",
    "# put everything together\n",
    "output += textwrap.fill(body, 50)\n",
    "\n",
    "print(output)"
   ]
  },
  {
   "cell_type": "code",
   "execution_count": 144,
   "metadata": {
    "collapsed": true
   },
   "outputs": [],
   "source": [
    "import pycorpora"
   ]
  },
  {
   "cell_type": "code",
   "execution_count": 156,
   "metadata": {},
   "outputs": [
    {
     "name": "stdout",
     "output_type": "stream",
     "text": [
      "Aquamarine\n"
     ]
    }
   ],
   "source": [
    "# test\n",
    "crayola_data = pycorpora.colors.crayola\n",
    "print(crayola_data[\"colors\"][3][\"color\"])"
   ]
  },
  {
   "cell_type": "code",
   "execution_count": 249,
   "metadata": {},
   "outputs": [
    {
     "data": {
      "text/plain": [
       "['abstract expressionism',\n",
       " 'academic',\n",
       " 'action painting',\n",
       " 'aestheticism',\n",
       " 'art deco',\n",
       " 'art nouveau',\n",
       " 'avant-garde',\n",
       " 'barbizon school',\n",
       " 'baroque',\n",
       " 'bauhaus',\n",
       " 'biedermeier',\n",
       " 'caravaggisti',\n",
       " 'carolingian',\n",
       " 'classicism',\n",
       " 'cloisonnism',\n",
       " 'cobra',\n",
       " 'color field painting',\n",
       " 'conceptual art',\n",
       " 'cubism',\n",
       " 'cubo-futurism',\n",
       " 'dada',\n",
       " 'dadaism',\n",
       " 'de stijl',\n",
       " 'deformalism',\n",
       " 'der blaue reiter',\n",
       " 'die brücke',\n",
       " 'divisionism',\n",
       " 'eclecticism',\n",
       " 'ego-futurism',\n",
       " 'existentialism',\n",
       " 'expressionism',\n",
       " 'fauvism',\n",
       " 'fluxus',\n",
       " 'formalism',\n",
       " 'futurism',\n",
       " 'geometric abstraction',\n",
       " 'gothic art',\n",
       " 'gründerzeit',\n",
       " 'hard-edge painting',\n",
       " 'historicism',\n",
       " 'hudson river school',\n",
       " 'humanism',\n",
       " 'hyperrealism',\n",
       " 'idealism',\n",
       " 'illusionism',\n",
       " 'immagine&poesia',\n",
       " 'impressionism',\n",
       " 'incoherents',\n",
       " 'installation art',\n",
       " 'international gothic',\n",
       " 'intervention art',\n",
       " 'jugendstil',\n",
       " 'kinetic art',\n",
       " 'land art',\n",
       " 'les nabis',\n",
       " 'lettrism',\n",
       " 'lowbrow',\n",
       " 'luminism',\n",
       " 'lyrical abstraction',\n",
       " 'mail art',\n",
       " 'manierism',\n",
       " 'mannerism',\n",
       " 'maximalism',\n",
       " 'merovingian',\n",
       " 'metaphysical art ',\n",
       " 'minimalism',\n",
       " 'modern art',\n",
       " 'modernism',\n",
       " 'monumentalism',\n",
       " 'multiculturalism',\n",
       " 'naturalism',\n",
       " 'neo-classicism',\n",
       " 'neo-dada',\n",
       " 'neo-expressionism',\n",
       " 'neo-fauvism',\n",
       " 'neo-geo',\n",
       " 'neo-impressionism',\n",
       " 'neo-minimalism',\n",
       " 'neoclassicism',\n",
       " 'neoism',\n",
       " 'neue slowenische kunst',\n",
       " 'new media art',\n",
       " 'new objectivity',\n",
       " 'nonconformism',\n",
       " 'nouveau realisme',\n",
       " 'op art',\n",
       " 'orphism',\n",
       " 'ottonian',\n",
       " 'outsider art',\n",
       " 'performance art',\n",
       " 'perspectivism',\n",
       " 'photorealism',\n",
       " 'pointilism',\n",
       " 'pop art',\n",
       " 'post-conceptualism',\n",
       " 'post-impressionism',\n",
       " 'post-minimalism',\n",
       " 'post-painterly abstraction',\n",
       " 'post-structuralism',\n",
       " 'postminimalism',\n",
       " 'postmodern art',\n",
       " 'postmodernism',\n",
       " 'pre-raphaelites',\n",
       " 'precisionism',\n",
       " 'primitivism',\n",
       " 'purism',\n",
       " 'rayonism',\n",
       " 'realism',\n",
       " 'relational art',\n",
       " 'remodernism',\n",
       " 'renaissance',\n",
       " 'rococo',\n",
       " 'romanesque',\n",
       " 'romanticism',\n",
       " 'russian futurism',\n",
       " 'russian symbolism',\n",
       " 'scuola romana',\n",
       " 'secularism',\n",
       " 'situationist international',\n",
       " 'social realism',\n",
       " 'socialist realism',\n",
       " 'sound art',\n",
       " 'street art',\n",
       " 'structuralism',\n",
       " 'stuckism international',\n",
       " 'stuckism',\n",
       " 'superflat',\n",
       " 'superstroke',\n",
       " 'suprematism',\n",
       " 'surrealism',\n",
       " 'symbolism',\n",
       " 'synchromism',\n",
       " 'synthetism',\n",
       " 'systems art',\n",
       " 'tachism',\n",
       " 'tachisme',\n",
       " 'tonalism',\n",
       " 'video art',\n",
       " 'video game art',\n",
       " 'vorticism',\n",
       " 'young british artists']"
      ]
     },
     "execution_count": 249,
     "metadata": {},
     "output_type": "execute_result"
    }
   ],
   "source": [
    "art_data = pycorpora.art.isms\n",
    "adjs = art_data[\"isms\"]\n",
    "adjs"
   ]
  },
  {
   "cell_type": "code",
   "execution_count": 172,
   "metadata": {
    "scrolled": true
   },
   "outputs": [
    {
     "name": "stdout",
     "output_type": "stream",
     "text": [
      "Red Shadow\n",
      "Acrylic on canvas, 2013\n",
      "\n",
      "The piece stands out as the neo-impressionism\n",
      "horizon. The caravaggisti billowing characterizes\n",
      "the <adj> darkened created with its horizon of\n",
      "applicator.\n"
     ]
    }
   ],
   "source": [
    "year = random.randint(1993,2018)\n",
    "\n",
    "key = random.choice(keys)\n",
    "nouns = list(similarsemantic(t, nlp, key, 60))\n",
    "nouns_len = len(nouns)\n",
    "key2 = nouns[nouns_len-1]\n",
    "nouns2 = list(similarsemantic(t, nlp, key2, 60))\n",
    "# nouns2 = list(similarsemantic(t, nlp, 'art', 100))\n",
    "\n",
    "\n",
    "output = random.choice(title_adjs) + \" \" + key + \"\\n\"\n",
    "output += random.choice(first_medium) + \" \" + \"on\" + \" \" + random.choice(second_medium) + \", \" + str(year) + \"\\n\"\n",
    "output += \"\\n\"\n",
    "\n",
    "\n",
    "history = []\n",
    "body = \"\"\n",
    "for i in range(2):\n",
    "    kind = random.choice([\"short\", \"long\"])\n",
    "    if kind == \"long\":\n",
    "        # adjectives and adverbs will be present only 50% of the time\n",
    "        line = \" \".join([\n",
    "            \"The\",\n",
    "            random.choice([random.choice(adjs),\"<adj>\", \"\"]),\n",
    "            random.choice(nouns),\n",
    "            random.choice([random.choice(advs), \"\"]),\n",
    "            random.choice(verbs2), \n",
    "            \" the\",\n",
    "            random.choice([random.choice(adjs),\"<adj>\", \"\"]),\n",
    "            random.choice(nouns),\n",
    "            random.choice(verbs),\n",
    "            \"with its\",\n",
    "            random.choice(nouns),\n",
    "            \"of\",\n",
    "            random.choice(nouns2)])\n",
    "        body += line\n",
    "    else:\n",
    "        adj_noun = random.choice(adjs) + \" \" + random.choice(nouns)\n",
    "        if len(history) > 0 and history[-1] == \"short\":\n",
    "            body += \"; \" + adj_noun\n",
    "        else:\n",
    "            body += \"The piece stands out as the \" + adj_noun\n",
    "    body += \". \"\n",
    "    history.append(kind)\n",
    "# clean up output\n",
    "body = body.replace(\"  \", \" \")\n",
    "body = body.replace(\". ;\", \";\")\n",
    "# put everything together\n",
    "output += textwrap.fill(body, 50)\n",
    "\n",
    "print(output)"
   ]
  },
  {
   "cell_type": "code",
   "execution_count": 185,
   "metadata": {},
   "outputs": [
    {
     "data": {
      "text/plain": [
       "['arrival',\n",
       " 'departure',\n",
       " 'giving',\n",
       " 'receiving',\n",
       " 'discovery',\n",
       " 'loss',\n",
       " 'deceit',\n",
       " 'victory',\n",
       " 'defeat',\n",
       " 'reversal',\n",
       " 'enlightenment',\n",
       " 'initiation',\n",
       " 'expulsion',\n",
       " 'ritual',\n",
       " 'injury',\n",
       " 'healing',\n",
       " 'rebirth']"
      ]
     },
     "execution_count": 185,
     "metadata": {},
     "output_type": "execute_result"
    }
   ],
   "source": [
    "key = random.choice(keys)\n",
    "nouns = list(similarsemantic(t, nlp, key, 60))\n",
    "nouns2 = []\n",
    "event_data = pycorpora.archetypes.event\n",
    "for i in range(17):\n",
    "    nouns2.append(event_data[\"events\"][i][\"name\"])\n",
    "nouns2"
   ]
  },
  {
   "cell_type": "code",
   "execution_count": 188,
   "metadata": {},
   "outputs": [
    {
     "name": "stdout",
     "output_type": "stream",
     "text": [
      "Dark Night\n",
      "Conté on wood, 2014\n",
      "\n",
      "The surrealism yesterday narrates the cobra next\n",
      "collected with its yesterday of departure. The\n",
      "conceptual art saturday characterizes the day\n",
      "blended with its sunday of loss.\n"
     ]
    }
   ],
   "source": [
    "year = random.randint(1993,2018)\n",
    "output = random.choice(title_adjs) + \" \" + key + \"\\n\"\n",
    "output += random.choice(first_medium) + \" \" + \"on\" + \" \" + random.choice(second_medium) + \", \" + str(year) + \"\\n\"\n",
    "output += \"\\n\"\n",
    "\n",
    "\n",
    "history = []\n",
    "body = \"\"\n",
    "for i in range(2):\n",
    "    kind = random.choice([\"short\", \"long\"])\n",
    "    if kind == \"long\":\n",
    "        # adjectives and adverbs will be present only 50% of the time\n",
    "        line = \" \".join([\n",
    "            \"The\",\n",
    "            random.choice([random.choice(adjs), \"\"]),\n",
    "            random.choice(nouns),\n",
    "            random.choice([random.choice(advs), \"\"]),\n",
    "            random.choice(verbs2), \n",
    "            \" the\",\n",
    "            random.choice([random.choice(adjs), \"\"]),\n",
    "            random.choice(nouns),\n",
    "            random.choice(verbs),\n",
    "            \"with its\",\n",
    "            random.choice(nouns),\n",
    "            \"of\",\n",
    "            random.choice(nouns2)])\n",
    "        body += line\n",
    "    else:\n",
    "        adj_noun = random.choice(adjs) + \" \" + random.choice(nouns)\n",
    "        if len(history) > 0 and history[-1] == \"short\":\n",
    "            body += \"; \" + adj_noun\n",
    "        else:\n",
    "            body += \"The piece stands out as the \" + adj_noun\n",
    "    body += \". \"\n",
    "    history.append(kind)\n",
    "# clean up output\n",
    "body = body.replace(\"  \", \" \")\n",
    "body = body.replace(\". ;\", \";\")\n",
    "# put everything together\n",
    "output += textwrap.fill(body, 50)\n",
    "\n",
    "print(output)"
   ]
  },
  {
   "cell_type": "code",
   "execution_count": 198,
   "metadata": {},
   "outputs": [
    {
     "data": {
      "text/plain": [
       "'exposure'"
      ]
     },
     "execution_count": 198,
     "metadata": {},
     "output_type": "execute_result"
    }
   ],
   "source": [
    "event_data[\"events\"][3][\"name\"]\n",
    "event_data[\"events\"][4][\"synonyms\"][1]\n"
   ]
  },
  {
   "cell_type": "code",
   "execution_count": 200,
   "metadata": {},
   "outputs": [],
   "source": [
    "key = random.choice(keys)\n",
    "nouns = list(similarsemantic(t, nlp, key, 60))\n",
    "nouns2 = []\n",
    "nouns3 = []\n",
    "event_data = pycorpora.archetypes.event\n",
    "for i in range(17):\n",
    "    nouns2.append(event_data[\"events\"][i][\"name\"])\n",
    "    nouns3.append(event_data[\"events\"][i][\"synonyms\"])"
   ]
  },
  {
   "cell_type": "code",
   "execution_count": 201,
   "metadata": {},
   "outputs": [
    {
     "data": {
      "text/plain": [
       "[['birth', 'introduction', 'reveal'],\n",
       " ['leaving', 'exiting', 'embarking', 'parting'],\n",
       " ['delivery', 'donation', 'presentation', 'endowment'],\n",
       " ['acceptance'],\n",
       " ['reveal', 'exposure'],\n",
       " ['separation', 'death', 'abandonment'],\n",
       " ['trickery', 'con', 'fool'],\n",
       " ['success', 'overcoming', 'triumph', 'passage'],\n",
       " ['fall', 'failure'],\n",
       " ['turnabout'],\n",
       " ['awakening', 'rise', 'improvement', 'learning', 'education'],\n",
       " ['acceptance', 'embracing', 'welcoming', 'joining'],\n",
       " ['separation', 'removal', 'rejection', 'elimination'],\n",
       " ['ceremony', 'rite', 'process'],\n",
       " ['wounding', 'hurting', 'insulting'],\n",
       " ['improvement', 'mending', 'joining'],\n",
       " ['renewal', 'return']]"
      ]
     },
     "execution_count": 201,
     "metadata": {},
     "output_type": "execute_result"
    }
   ],
   "source": [
    "nouns3"
   ]
  },
  {
   "cell_type": "code",
   "execution_count": 238,
   "metadata": {
    "scrolled": true
   },
   "outputs": [
    {
     "name": "stdout",
     "output_type": "stream",
     "text": [
      "arrival\n",
      "['birth', 'introduction', 'reveal']\n"
     ]
    }
   ],
   "source": [
    "key = random.choice(keys)\n",
    "nouns = list(similarsemantic(t, nlp, key, 60))\n",
    "\n",
    "events_random = random.randint(0, len(event_data[\"events\"]))\n",
    "nouns2 = event_data[\"events\"][events_random][\"name\"]\n",
    "nouns3 = event_data[\"events\"][events_random][\"synonyms\"]\n",
    "print(nouns2)\n",
    "print(nouns3)"
   ]
  },
  {
   "cell_type": "code",
   "execution_count": 257,
   "metadata": {},
   "outputs": [],
   "source": [
    "art_data = pycorpora.art.isms\n",
    "art = art_data[\"isms\"]"
   ]
  },
  {
   "cell_type": "code",
   "execution_count": 264,
   "metadata": {},
   "outputs": [
    {
     "name": "stdout",
     "output_type": "stream",
     "text": [
      "Diagonal Old man\n",
      "Cloisonné on ceramic, 2012\n",
      "\n",
      "The work stands out as the romanticism style;\n",
      "neoclassicism piece. The classicism wrong\n",
      "represents the arrival composed with its\n",
      "introduction of reveal.\n"
     ]
    }
   ],
   "source": [
    "year = random.randint(1993,2018)\n",
    "output = random.choice(title_adjs) + \" \" + key + \"\\n\"\n",
    "output += random.choice(first_medium) + \" \" + \"on\" + \" \" + random.choice(second_medium) + \", \" + str(year) + \"\\n\"\n",
    "output += \"\\n\"\n",
    "\n",
    "\n",
    "history = []\n",
    "body = \"\"\n",
    "for i in range(3):\n",
    "    kind = random.choice([\"short\", \"long\"])\n",
    "    if kind == \"long\":\n",
    "        line = \" \".join([\n",
    "            \"The\",\n",
    "            random.choice([random.choice(art), \"\"]),\n",
    "            random.choice(nouns),\n",
    "            random.choice([random.choice(art), \"\"]),\n",
    "            random.choice(verbs2), \n",
    "            \" the\",\n",
    "            nouns2,\n",
    "            random.choice(verbs),\n",
    "            \"with its\",\n",
    "            random.choice(nouns3),\n",
    "            \"of\",\n",
    "            random.choice(nouns3)])\n",
    "        body += line\n",
    "    else:\n",
    "        style = random.choice(art) + \" piece\"\n",
    "        if len(history) > 0 and history[-1] == \"short\":\n",
    "            body += \"; \" + style\n",
    "        else:\n",
    "            body += \"The work stands out as the \" + random.choice(art) + \" style\"\n",
    "    body += \". \"\n",
    "    history.append(kind)\n",
    "# clean up output\n",
    "body = body.replace(\"  \", \" \")\n",
    "body = body.replace(\". ;\", \";\")\n",
    "# put everything together\n",
    "output += textwrap.fill(body, 50)\n",
    "\n",
    "print(output)"
   ]
  },
  {
   "cell_type": "code",
   "execution_count": null,
   "metadata": {
    "collapsed": true
   },
   "outputs": [],
   "source": []
  }
 ],
 "metadata": {
  "kernelspec": {
   "display_name": "Python 3",
   "language": "python",
   "name": "python3"
  },
  "language_info": {
   "codemirror_mode": {
    "name": "ipython",
    "version": 3
   },
   "file_extension": ".py",
   "mimetype": "text/x-python",
   "name": "python",
   "nbconvert_exporter": "python",
   "pygments_lexer": "ipython3",
   "version": "3.6.3"
  }
 },
 "nbformat": 4,
 "nbformat_minor": 2
}
