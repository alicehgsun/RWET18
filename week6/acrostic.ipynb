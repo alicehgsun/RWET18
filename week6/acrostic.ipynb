{
 "cells": [
  {
   "cell_type": "markdown",
   "metadata": {},
   "source": [
    "# And Our Faces, My Hear, Brief As Photos\n",
    "\n",
    "An acrostic poem generator using some existing peoms from [And our faces, my heart, brief as photos](https://www.amazon.com/Our-Faces-Heart-Brief-Photos/dp/0679736565) by John Berger."
   ]
  },
  {
   "cell_type": "markdown",
   "metadata": {},
   "source": [
    "Inporting 4 different poems: Leaving, Waterfront, A Forest I Knew, and Factory by John Berger; then combine them as one list. Initially I started with only a single poem, but soon I realized that an acrostic generator requires an adequate amount of source text, especially because I'm collecting lines, not words."
   ]
  },
  {
   "cell_type": "code",
   "execution_count": 302,
   "metadata": {
    "collapsed": true
   },
   "outputs": [],
   "source": [
    "leaving = [line.strip() for line in open(\"leaving.txt\")]\n",
    "water = [line.strip() for line in open(\"waterfront.txt\")]\n",
    "forest = [line.strip() for line in open(\"a-forest-i-knew.txt\")]\n",
    "factory = [line.strip() for line in open(\"factory.txt\")]"
   ]
  },
  {
   "cell_type": "code",
   "execution_count": 198,
   "metadata": {},
   "outputs": [],
   "source": [
    "four = [line for line in leaving if line !=''] + [line for line in water if line !=''] + [line for line in forest if line !=''] + [line for line in factory if line !=''] "
   ]
  },
  {
   "cell_type": "markdown",
   "metadata": {},
   "source": [
    "Now the list contains all lines from four different poems. The following code checks the first letter [0] in each line, and creates a dictionary of lines in alphabetical order."
   ]
  },
  {
   "cell_type": "code",
   "execution_count": 303,
   "metadata": {
    "collapsed": true
   },
   "outputs": [],
   "source": [
    "initials = {}\n",
    "\n",
    "for line2 in four:\n",
    "    first_let = line2[0].lower()\n",
    "    if first_let not in initials:\n",
    "        initials[first_let] = []\n",
    "    initials[first_let].append(line2)"
   ]
  },
  {
   "cell_type": "code",
   "execution_count": 304,
   "metadata": {
    "scrolled": true
   },
   "outputs": [
    {
     "data": {
      "text/plain": [
       "{'a': ['all night Hudson',\n",
       "  'are warm',\n",
       "  'and sleepy',\n",
       "  'a sheet',\n",
       "  'as we lit the fire',\n",
       "  'and in the cold I dream',\n",
       "  'a dog’s tongue'],\n",
       " 'b': ['black ice collects', 'burnt like', 'behind its teeth'],\n",
       " 'c': ['cannot',\n",
       "  'clings to a single word',\n",
       "  'coughs in bed',\n",
       "  'cold is the pain of believing'],\n",
       " 'd': ['daybreak'],\n",
       " 'e': ['endure long enough', 'each clearing is recorded', 'eternal dawn'],\n",
       " 'g': ['gaff them sky gaff them'],\n",
       " 'h': ['hills get up',\n",
       "  'have eaten',\n",
       "  'here',\n",
       "  'hour of awakening',\n",
       "  'hour of revolutionary prophecy',\n",
       "  'hour of the embers dead',\n",
       "  'here'],\n",
       " 'i': ['I have tried to write the truth on trains',\n",
       "  'I try to sleep',\n",
       "  'is a hide nailed to wood',\n",
       "  'I make a hammock',\n",
       "  'in sleep',\n",
       "  'I suck birth village',\n",
       "  'into a cup',\n",
       "  'in the forest wild boar',\n",
       "  'in my head',\n",
       "  'I follow their spoor',\n",
       "  'in the forest I knew.',\n",
       "  'it is dawn eternally'],\n",
       " 'k': ['keeps out the look of the world'],\n",
       " 'l': ['let me die like this', 'lay down in it'],\n",
       " 'm': ['my river', 'my country'],\n",
       " 'n': ['near fields were', 'night is time forgotten'],\n",
       " 'o': ['of leaving',\n",
       "  'on each letter',\n",
       "  'out of horizons',\n",
       "  'on a screen I carry',\n",
       "  'on the cloth',\n",
       "  'of how the pine'],\n",
       " 'p': ['pain', 'pilot in', 'pulled over', 'pulled up the dark as blanket'],\n",
       " 'q': ['quiet as the earth'],\n",
       " 'r': ['rolled like a cloth'],\n",
       " 's': ['SAVA'],\n",
       " 't': ['tracks vanish',\n",
       "  'the white embrace',\n",
       "  'the tongue takes fright',\n",
       "  'the train is crossing a bridge',\n",
       "  'the wind of my soul rushes',\n",
       "  'touch my river’s curve',\n",
       "  'two black mackerel',\n",
       "  'the branches have muscles',\n",
       "  'the cloud pours',\n",
       "  'the eyes of the dead',\n",
       "  'time of the days work',\n",
       "  'there we built the night',\n",
       "  'the breath of animals asleep'],\n",
       " 'u': ['under snow', 'unrolled'],\n",
       " 'w': ['without an ear',\n",
       "  'without end',\n",
       "  'warm as the fire',\n",
       "  'warmth will never return']}"
      ]
     },
     "execution_count": 304,
     "metadata": {},
     "output_type": "execute_result"
    }
   ],
   "source": [
    "initials"
   ]
  },
  {
   "cell_type": "markdown",
   "metadata": {},
   "source": [
    "The dictionary is completed, although it's still missing some letters (those ones won't be available to form the poem). Then, set up a word that will be the seed: first letters of each line. Once the seed word is decided, the next step is going through initials{} dictionary and check if it contains any sentence starting with the same letter. Then, it will choose randomly among the list of sentences, if there are more than one."
   ]
  },
  {
   "cell_type": "code",
   "execution_count": 328,
   "metadata": {
    "collapsed": true
   },
   "outputs": [],
   "source": [
    "seed = \"alice\"\n",
    "seed1 = \"walk\"\n",
    "seed2 = \"mother\""
   ]
  },
  {
   "cell_type": "code",
   "execution_count": 329,
   "metadata": {},
   "outputs": [],
   "source": [
    "import random\n",
    "poem = [random.choice(initials[word]).capitalize() for word in seed]\n",
    "poem1 = [random.choice(initials[word]).capitalize() for word in seed1]\n",
    "poem2 = [random.choice(initials[word]).capitalize() for word in seed2]"
   ]
  },
  {
   "cell_type": "markdown",
   "metadata": {},
   "source": [
    "The following codes are for final output with its title."
   ]
  },
  {
   "cell_type": "code",
   "execution_count": 330,
   "metadata": {},
   "outputs": [
    {
     "name": "stdout",
     "output_type": "stream",
     "text": [
      "Alice\n",
      "\n",
      "And in the cold i dream\n",
      "Lay down in it\n",
      "I make a hammock\n",
      "Cannot\n",
      "Each clearing is recorded\n"
     ]
    }
   ],
   "source": [
    "print(seed.capitalize() + \"\\n\")\n",
    "for i in poem:\n",
    "    print(i)"
   ]
  },
  {
   "cell_type": "code",
   "execution_count": 331,
   "metadata": {},
   "outputs": [
    {
     "name": "stdout",
     "output_type": "stream",
     "text": [
      "Walk\n",
      "\n",
      "Warm as the fire\n",
      "A sheet\n",
      "Let me die like this\n",
      "Keeps out the look of the world\n"
     ]
    }
   ],
   "source": [
    "print(seed1.capitalize() +\"\\n\")\n",
    "for i in poem1:\n",
    "    print(i)"
   ]
  },
  {
   "cell_type": "code",
   "execution_count": 332,
   "metadata": {
    "scrolled": true
   },
   "outputs": [
    {
     "name": "stdout",
     "output_type": "stream",
     "text": [
      "Mother\n",
      "\n",
      "My river\n",
      "Of leaving\n",
      "Time of the days work\n",
      "Hills get up\n",
      "Each clearing is recorded\n",
      "Rolled like a cloth\n"
     ]
    }
   ],
   "source": [
    "print(seed2.capitalize() +\"\\n\")\n",
    "for i in poem2:\n",
    "    print(i)"
   ]
  }
 ],
 "metadata": {
  "kernelspec": {
   "display_name": "Python 3",
   "language": "python",
   "name": "python3"
  },
  "language_info": {
   "codemirror_mode": {
    "name": "ipython",
    "version": 3
   },
   "file_extension": ".py",
   "mimetype": "text/x-python",
   "name": "python",
   "nbconvert_exporter": "python",
   "pygments_lexer": "ipython3",
   "version": "3.6.3"
  }
 },
 "nbformat": 4,
 "nbformat_minor": 2
}
