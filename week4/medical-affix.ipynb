{
 "cells": [
  {
   "cell_type": "markdown",
   "metadata": {},
   "source": [
    "# Affix in Medical Terminology\n",
    "\n",
    "Some experiment with lists and lines with affix in medical terminology. The original list and description are from [List of medical roots, suffixes and prefixes](https://en.wikipedia.org/wiki/List_of_medical_roots,_suffixes_and_prefixes) in Wikipedia."
   ]
  },
  {
   "cell_type": "markdown",
   "metadata": {},
   "source": [
    "### 1"
   ]
  },
  {
   "cell_type": "code",
   "execution_count": 131,
   "metadata": {
    "collapsed": true
   },
   "outputs": [],
   "source": [
    "aList = open(\"med_a.txt\").read()"
   ]
  },
  {
   "cell_type": "code",
   "execution_count": 132,
   "metadata": {},
   "outputs": [
    {
     "data": {
      "text/plain": [
       "\"a-, an-\\tnot, without\\tAncient Greek ἀ-/ἀν- (a-/an-), not, without\\tanalgesic, apathy\\nab-\\tfrom; away from\\tLatin\\tabduction\\nabdomin-\\tOf or relating to the abdomen\\tLatin abdōmen, abdomen, fat around the belly\\tabdomen, abdominal\\n-ac\\tpertaining to\\tGreek -ακός (-akos)\\tcardiac, hydrophobiac\\nacanth-\\tthorn or spine\\tAncient Greek ἄκανθα (ákantha), thorn\\tacanthion, acanthocyte, acanthoma, acanthulus\\nacou- [1]\\tOf or relating to hearing\\tGreek ἀκούειν (akoúein), ἀκουστικός (akoustikós), of or for hearing\\tacoumeter, acoustician, hyperacusis\\nacr-\\textremity, topmost\\tGreek ἄκρον (akron), highest or farthest point\\tacrocrany, acromegaly, acroosteolysis, acroposthia\\n-acusis\\thearing\\tGreek ἀκουστικός (akoustikós), of or for hearing\\tparacusis\\n-ad\\ttoward, in the direction of\\t\\tdorsad\\nad-\\tat, increase, on, toward\\tLatin\\tadduction\\naden-\\tOf or relating to a gland\\tAncient Greek ἀδήν, ἀδέν- (adēn, aden-), an acorn; a gland\\tadenocarcinoma, adenology, adenotome, adenotyphus\\nadip-\\tOf or relating to fat or fatty tissue\\tLatin (adeps, adip-), fat\\tAdipocyte\\nadren-\\tOf or relating to adrenal glands\\tLatin\\tadrenal artery\\n-emia (BrE)\\tblood condition\\tGreek ἀναιμία, without blood\\tAnemia\\naer(o)-\\tair, gas\\tGreek ἀήρ, ἀέρος\\tAerosinusitis\\naesthesi- (BrE)\\tsensation\\tGreek αἴσθησις\\tAnesthesia\\n-al\\tpertaining to\\tLatin -alis\\tabdominal, femoral\\nalb-\\tDenoting a white or pale color\\tLatin albus, white\\tAlbino\\nalge(si)-\\tpain\\tGreek ἄλγος\\tAnalgesic\\n-algia, alg(i)o-\\tpain\\tGreek\\tMyalgia\\nall-\\tDenoting something as different, or as an addition\\tAncient Greek ἄλλος (allos), another, other\\tAlloantigen, allopathy\\nambi-\\tDenoting something as positioned on both sides; describing both of two\\tLatin (ambi-, ambo), both, on both sides\\tAmbidextrous\\namni-\\tPertaining to the membranous fetal sac (amnion)\\tGreek ἄμνιον\\tAmniocentesis\\namph(i)-,\\ton both sides\\tGreek ἀμφί (amphi)\\tAmphicrania, amphismela, amphomycin\\namylo-\\tstarchy, carbohydrate-related\\tLatin amylum (starch)\\tAmylase, amylophagia\\nan-\\tnot, without\\tGreek\\tAnalgesia\\nana-\\tback, again, up\\tGreek\\tAnaplasia\\nan-\\tanus\\tLatin\\tanal\\nandr-\\tpertaining to a man\\tGreek ἀνήρ, ἀνδρ-\\tAndroid, andrology, androgen\\nangi-\\tblood vessel\\tGreek ἀγγεῖον\\tangiogram, angioplasty\\naniso-\\tDescribing something as unequal\\tAncient Greek ἄνῑσος (anīsos), unequal\\tAnisocytosis, anisotropic\\nankyl-, ancyl-\\tDenoting something as crooked or bent\\tAncient Greek ἀγκύλος (ankýlos), crooked, curved\\tAnkylosis\\nante-\\tDescribing something as positioned in front of another thing\\tLatin (āntē), before, in front of\\tantepartum\\nanti-\\tDescribing something as 'against' or 'opposed to' another\\tAncient Greek αντι (anti), against\\tAntibody, antipsychotic\\napo-\\taway, separated from, derived from\\tAncient Greek ἀπό\\tApoptosis\\narch-\\tfirst, primitive\\tAncient Greek\\tarchinephron\\narsen(o)-\\tOf or pertaining to a male; masculine\\tGreek (arsein)\\tarsenoblast\\narteri(o)-\\tOf or pertaining to an artery\\tAncient Greek ἀρτηρία (artēría), a wind-pipe, artery (used distinctly versus a vein)\\tArteriole, artery\\narthr-\\tOf or pertaining to the joints, limbs\\tAncient Greek ἄρθρον (árthron), a joint, limb\\tArthritis\\narticul-\\tjoint\\tLatin articulus\\tArticulation\\n-ary\\tpertaining to\\tLatin -arius\\tbiliary tract, coronary\\n-ase\\tenzyme\\tGreek διάστασις, division\\tLactase\\n-asthenia\\tweakness\\tGreek, ἀσθένεια\\tMyasthenia gravis\\natel(o)-\\timperfect or incomplete development\\t\\tatelocardia\\nather-\\tfatty deposit, soft gruel-like deposit\\tἀθάρη (athárē)\\tAtherosclerosis\\n-ation\\tprocess\\tLatin\\tmedication\\natri-\\tan atrium (esp. heart atrium)\\tLatin\\tatrioventricular\\naur-\\tOf or pertaining to the ear\\tLatin (auris), the ear\\tAural\\naut-\\tself\\tGreek αὐτο-\\tAutoimmune\\naux(o)-\\tincrease; growth\\t\\tAuxocardia: enlargement of the heart, auxology\\naxill-\\tOf or pertaining to the armpit (uncommon as a prefix)\\tLatin (axilla), armpit\\tAxilla\\nazo(to)-\\tnitrogenous compound\\t\\tazothermia: raised temperature due to nitrogenous substances in blood\\n\""
      ]
     },
     "execution_count": 132,
     "metadata": {},
     "output_type": "execute_result"
    }
   ],
   "source": [
    "aList"
   ]
  },
  {
   "cell_type": "code",
   "execution_count": 133,
   "metadata": {
    "collapsed": true
   },
   "outputs": [],
   "source": [
    "aList = aList.replace(\"\\n\", \"\\t\").replace(\",\",\"\\t\").split(\"\\t\")"
   ]
  },
  {
   "cell_type": "code",
   "execution_count": 134,
   "metadata": {},
   "outputs": [
    {
     "data": {
      "text/plain": [
       "['acanth-', 'acanthion', ' acanthocyte', ' acanthoma', ' acanthulus']"
      ]
     },
     "execution_count": 134,
     "metadata": {},
     "output_type": "execute_result"
    }
   ],
   "source": [
    "[aWord for aWord in aList if 'acanth' in aWord]"
   ]
  },
  {
   "cell_type": "code",
   "execution_count": 135,
   "metadata": {
    "collapsed": true
   },
   "outputs": [],
   "source": [
    "acanth = [aWord for aWord in aList if 'acanth' in aWord]"
   ]
  },
  {
   "cell_type": "code",
   "execution_count": 136,
   "metadata": {
    "collapsed": true
   },
   "outputs": [],
   "source": [
    "acanth = acanth[1:]"
   ]
  },
  {
   "cell_type": "code",
   "execution_count": 137,
   "metadata": {},
   "outputs": [
    {
     "data": {
      "text/plain": [
       "['acanthion', ' acanthocyte', ' acanthoma', ' acanthulus']"
      ]
     },
     "execution_count": 137,
     "metadata": {},
     "output_type": "execute_result"
    }
   ],
   "source": [
    "acanth"
   ]
  },
  {
   "cell_type": "code",
   "execution_count": 129,
   "metadata": {
    "scrolled": false
   },
   "outputs": [
    {
     "data": {
      "text/plain": [
       "'acanth- means thorn or spine, and originated from Ancient Greek ἄκανθα (ákantha), thorn. Examples: acanthion,  acanthocyte,  acanthoma,  acanthulus'"
      ]
     },
     "execution_count": 129,
     "metadata": {},
     "output_type": "execute_result"
    }
   ],
   "source": [
    "\"acanth- means thorn or spine, and originated from Ancient Greek ἄκανθα (ákantha), thorn. Examples: \" + \", \".join(acanth)"
   ]
  },
  {
   "cell_type": "markdown",
   "metadata": {},
   "source": [
    "### 2 "
   ]
  },
  {
   "cell_type": "code",
   "execution_count": 145,
   "metadata": {
    "collapsed": true
   },
   "outputs": [],
   "source": [
    "aList2 = open(\"med_a.txt\").read()"
   ]
  },
  {
   "cell_type": "code",
   "execution_count": 148,
   "metadata": {
    "collapsed": true
   },
   "outputs": [],
   "source": [
    "aList2 = aList2.replace(\"\\n\", \"\\t\").split(\"\\t\")"
   ]
  },
  {
   "cell_type": "code",
   "execution_count": 152,
   "metadata": {
    "collapsed": true
   },
   "outputs": [],
   "source": [
    "an = aList2[0:4]"
   ]
  },
  {
   "cell_type": "code",
   "execution_count": 173,
   "metadata": {},
   "outputs": [
    {
     "data": {
      "text/plain": [
       "'a-, an- means not, without and originated from Ancient Greek ἀ-/ἀν- (a-/an-), not, without. (i.e: analgesic, apathy)'"
      ]
     },
     "execution_count": 173,
     "metadata": {},
     "output_type": "execute_result"
    }
   ],
   "source": [
    "an[0] + \" means \" + an[1] + \" and originated from \" + an[2] + \". (i.e: \" + an[3] + \")\""
   ]
  },
  {
   "cell_type": "code",
   "execution_count": 168,
   "metadata": {
    "collapsed": true
   },
   "outputs": [],
   "source": [
    "ab = aList2[4:8]"
   ]
  },
  {
   "cell_type": "code",
   "execution_count": 174,
   "metadata": {},
   "outputs": [
    {
     "data": {
      "text/plain": [
       "'ab- means from; away from and originated from Latin. (i.e: abduction)'"
      ]
     },
     "execution_count": 174,
     "metadata": {},
     "output_type": "execute_result"
    }
   ],
   "source": [
    "ab[0] + \" means \" + ab[1] + \" and originated from \" + ab[2] + \". (i.e: \" + ab[3] + \")\""
   ]
  },
  {
   "cell_type": "code",
   "execution_count": 175,
   "metadata": {
    "collapsed": true
   },
   "outputs": [],
   "source": [
    "abdomin = aList2[8:12]"
   ]
  },
  {
   "cell_type": "code",
   "execution_count": 176,
   "metadata": {},
   "outputs": [
    {
     "data": {
      "text/plain": [
       "'abdomin- means Of or relating to the abdomen and originated from Latin abdōmen, abdomen, fat around the belly. (i.e: abdomen, abdominal)'"
      ]
     },
     "execution_count": 176,
     "metadata": {},
     "output_type": "execute_result"
    }
   ],
   "source": [
    "abdomin[0] + \" means \" + abdomin[1] + \" and originated from \" + abdomin[2] + \". (i.e: \" + abdomin[3] + \")\""
   ]
  }
 ],
 "metadata": {
  "kernelspec": {
   "display_name": "Python 3",
   "language": "python",
   "name": "python3"
  },
  "language_info": {
   "codemirror_mode": {
    "name": "ipython",
    "version": 3
   },
   "file_extension": ".py",
   "mimetype": "text/x-python",
   "name": "python",
   "nbconvert_exporter": "python",
   "pygments_lexer": "ipython3",
   "version": "3.6.3"
  }
 },
 "nbformat": 4,
 "nbformat_minor": 2
}
