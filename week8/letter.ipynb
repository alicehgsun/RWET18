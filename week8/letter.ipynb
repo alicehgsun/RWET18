{
 "cells": [
  {
   "cell_type": "markdown",
   "metadata": {
    "collapsed": true
   },
   "source": [
    "# Letter from the Trial\n",
    "\n",
    "A rewriting generator of the letter from Alice in Wonderland, Chapter 12. The original letter itself is a poem full of pronouns, plays again with the ambiguity of pronouns. In the story, it was used as an item that proves the king's unjust and poor reasoning. Using that ambiguity, the generator will realign the original poem with [shmarkov](https://gist.github.com/aparrish/14cb94ce539a868e6b8714dd84003f06) and create new ones."
   ]
  },
  {
   "cell_type": "code",
   "execution_count": 59,
   "metadata": {
    "scrolled": true
   },
   "outputs": [
    {
     "name": "stdout",
     "output_type": "stream",
     "text": [
      "   They told me you had been to her,\n",
      "    And mentioned me to him:\n",
      "   She gave me a good character,\n",
      "    But said I could not swim.\n",
      "\n",
      "   He sent them word I had not gone\n",
      "    (We know it to be true):\n",
      "   If she should push the matter on,\n",
      "    What would become of you?\n",
      "\n",
      "   I gave her one, they gave him two,\n",
      "    You gave us three or more;\n",
      "   They all returned from him to you,\n",
      "    Though they were mine before.\n",
      "\n",
      "   If I or she should chance to be\n",
      "    Involved in this affair,\n",
      "   He trusts to you to set them free,\n",
      "    Exactly as we were.\n",
      "\n",
      "   My notion was that you had been\n",
      "    (Before she had this fit)\n",
      "   An obstacle that came between\n",
      "    Him, and ourselves, and it.\n",
      "\n",
      "   Don’t let him know she liked them best,\n",
      "    For this must ever be\n",
      "   A secret, kept from all the rest,\n",
      "    Between yourself and me.\n"
     ]
    }
   ],
   "source": [
    "print(open(\"letter.txt\").read())"
   ]
  },
  {
   "cell_type": "code",
   "execution_count": 60,
   "metadata": {
    "collapsed": true
   },
   "outputs": [],
   "source": [
    "from shmarkov import *"
   ]
  },
  {
   "cell_type": "code",
   "execution_count": 7,
   "metadata": {
    "collapsed": true,
    "scrolled": true
   },
   "outputs": [],
   "source": [
    "lines = open(\"letter.txt\").readlines()\n",
    "lines_words = [line.strip().split() for line in lines]\n",
    "starts = [item[:2] for item in lines_words if len(item) >= 2]\n",
    "lines_model = markov_model_from_sequences(2, lines_words)"
   ]
  },
  {
   "cell_type": "markdown",
   "metadata": {},
   "source": [
    "To make them in similar structure, I put indent in every line with even order."
   ]
  },
  {
   "cell_type": "code",
   "execution_count": 8,
   "metadata": {},
   "outputs": [
    {
     "name": "stdout",
     "output_type": "stream",
     "text": [
      " 0 But said I could not swim.\n",
      "  1 A secret, kept from all the rest,\n",
      " 2 But said I could not swim.\n",
      "  3 For this must ever be\n",
      " 4 You gave us three or more;\n",
      "  5 (We know it to be\n",
      " 6 He sent them word I had not gone\n",
      "  7 Exactly as we were.\n",
      " 8 For this must ever be\n",
      "  9 But said I could not swim.\n"
     ]
    }
   ],
   "source": [
    "for i in range(10):\n",
    "    start = random.choice(starts)\n",
    "    generated = gen_from_model(2, lines_model, random.choice(starts))\n",
    "    if i % 2 == 0:\n",
    "        print(\"\", i, ' '.join(generated))\n",
    "    else:\n",
    "        print(\" \", i, ' '.join(generated))"
   ]
  },
  {
   "cell_type": "markdown",
   "metadata": {},
   "source": [
    "... and put empty line between every stanza."
   ]
  },
  {
   "cell_type": "code",
   "execution_count": 49,
   "metadata": {},
   "outputs": [
    {
     "name": "stdout",
     "output_type": "stream",
     "text": [
      " They all returned from him to you,\n",
      "  A secret, kept from all the rest,\n",
      " But said I could not swim.\n",
      "  Don’t let him know she liked them best, \n",
      "\n",
      " For this must ever be\n",
      "  They all returned from him to you,\n",
      " What would become of you?\n",
      "  Exactly as we were. \n",
      "\n",
      " For this must ever be\n",
      "  Involved in this affair,\n",
      " But said I could not swim.\n",
      "  If I or she should chance to be \n",
      "\n",
      " (Before she had this fit)\n",
      "  A secret, kept from all the rest,\n",
      " And mentioned me to him:\n",
      "  If she should chance to be true): \n",
      "\n",
      " For this must ever be\n",
      "  (We know it to be true):\n",
      " She gave me a good character,\n",
      "  (Before she had this fit) \n",
      "\n",
      " Between yourself and me.\n",
      "  Him, and ourselves, and it.\n",
      " And mentioned me to him:\n",
      "  Exactly as we were. \n",
      "\n"
     ]
    }
   ],
   "source": [
    "stanza = 6\n",
    "for i in range(4 * stanza):\n",
    "    start = random.choice(starts)\n",
    "    generated = gen_from_model(2, lines_model, random.choice(starts))\n",
    "    if i % 2 == 0:\n",
    "        print(\"\", ' '.join(generated))\n",
    "    else:\n",
    "        if (i + 1) % 4 == 0:\n",
    "            print(\" \",' '.join(generated), \"\\n\") \n",
    "        else:\n",
    "            print(\" \",' '.join(generated))"
   ]
  },
  {
   "cell_type": "markdown",
   "metadata": {},
   "source": [
    "During the modification, I tried to figure out a natural way to adjust special characters, but ended up being not so successful. Furthermore, I came to a conclusion that only controlling special characters won't make the poem more natural. Probably just removing them all might be a better idea?\n",
    "    \n",
    "    import re\n",
    "    line = re.sub(r'\\W$\",'',line) ???"
   ]
  },
  {
   "cell_type": "code",
   "execution_count": 58,
   "metadata": {},
   "outputs": [
    {
     "name": "stdout",
     "output_type": "stream",
     "text": [
      " Between yourself and me\n",
      "  An obstacle that came between\n",
      " I gave her one, they gave him two\n",
      "  He sent them word I had not gone \n",
      "\n",
      " They told me you had been to her\n",
      "  You gave us three or more\n",
      " They told me you had been\n",
      "  I gave her one, they gave him two \n",
      "\n",
      " He sent them word I had not gone\n",
      "  We know it to be true\n",
      " He trusts to you\n",
      "  For this must ever be \n",
      "\n",
      " Between yourself and me\n",
      "  I gave her one, they gave him two\n",
      " She gave me a good character\n",
      "  Involved in this affair \n",
      "\n",
      " If I or she should chance to be true\n",
      "  Before she had this fit\n",
      " I gave her one, they gave him two\n",
      "  If she should chance to be true \n",
      "\n",
      " They all returned from him to you\n",
      "  He sent them word I had not gone\n",
      " She gave me a good character\n",
      "  What would become of you \n",
      "\n"
     ]
    }
   ],
   "source": [
    "lines = open(\"letter-2.txt\").readlines()\n",
    "lines_words = [line.strip().split() for line in lines]\n",
    "starts = [item[:2] for item in lines_words if len(item) >= 2]\n",
    "lines_model = markov_model_from_sequences(2, lines_words)\n",
    "\n",
    "stanza = 6\n",
    "for i in range(4 * stanza):\n",
    "    start = random.choice(starts)\n",
    "    generated = gen_from_model(2, lines_model, random.choice(starts))\n",
    "    if i % 2 == 0:\n",
    "        print(\"\", ' '.join(generated))\n",
    "    else:\n",
    "        if (i + 1) % 4 == 0:\n",
    "            print(\" \",' '.join(generated), \"\\n\") \n",
    "        else:\n",
    "            print(\" \",' '.join(generated))"
   ]
  }
 ],
 "metadata": {
  "kernelspec": {
   "display_name": "Python 3",
   "language": "python",
   "name": "python3"
  },
  "language_info": {
   "codemirror_mode": {
    "name": "ipython",
    "version": 3
   },
   "file_extension": ".py",
   "mimetype": "text/x-python",
   "name": "python",
   "nbconvert_exporter": "python",
   "pygments_lexer": "ipython3",
   "version": "3.6.3"
  }
 },
 "nbformat": 4,
 "nbformat_minor": 2
}
